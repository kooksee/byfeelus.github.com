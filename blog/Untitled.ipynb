{
 "cells": [
  {
   "cell_type": "code",
   "execution_count": 27,
   "metadata": {
    "collapsed": false
   },
   "outputs": [
    {
     "name": "stdout",
     "output_type": "stream",
     "text": [
      "/Users/kooksee/coderzh-hugo-blog/content/blog\n",
      "/Users/kooksee/coderzh-hugo-blog/content/blog/django settings最佳配置.md\n",
      "[]\n"
     ]
    }
   ],
   "source": [
    "#encoding=utf-8\n",
    "\n",
    "import os\n",
    "import os.path  \n",
    "\n",
    "basedir = os.path.realpath(\".\")\n",
    "print basedir\n",
    "\n",
    "#fp = open(\"test.txt\",w+)\n",
    "                               \n",
    "# django settings最佳配置\n",
    "\n",
    "#标签（空格分隔）： python django 配置\n",
    "\n",
    "\n",
    "\n",
    "for parent,dirnames,filenames in os.walk(basedir):  \n",
    "    for filename in filenames[7:8]: \n",
    "        name = os.path.join(parent,filename)\n",
    "        print name\n",
    "        with open(name,\"a+\") as fp:\n",
    "            print fp.readlines()\n",
    "            title = \"\\n\"\n",
    "            tags = \"\\n\"\n",
    "            head = \"---\\n\"\n",
    "            for line in fp.readlines():\n",
    "                print filename\n",
    "                if \"#\" in line:\n",
    "                    title += line.replace(\"#\",\"title: \")\n",
    "                    continue\n",
    "                        \n",
    "                if \"标签\" in line:\n",
    "                    c = line.split(\"：\")[-1].strip().split(\" \")\n",
    "                    tags += str(c)\n",
    "                    head += title + tags\n",
    "                    print head\n",
    "                    break\n",
    "            \n"
   ]
  },
  {
   "cell_type": "code",
   "execution_count": null,
   "metadata": {
    "collapsed": true
   },
   "outputs": [],
   "source": []
  }
 ],
 "metadata": {
  "kernelspec": {
   "display_name": "Python 2",
   "language": "python",
   "name": "python2"
  },
  "language_info": {
   "codemirror_mode": {
    "name": "ipython",
    "version": 2
   },
   "file_extension": ".py",
   "mimetype": "text/x-python",
   "name": "python",
   "nbconvert_exporter": "python",
   "pygments_lexer": "ipython2",
   "version": "2.7.11"
  }
 },
 "nbformat": 4,
 "nbformat_minor": 0
}
